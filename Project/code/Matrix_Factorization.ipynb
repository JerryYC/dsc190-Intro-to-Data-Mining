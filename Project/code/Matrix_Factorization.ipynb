{
 "cells": [
  {
   "cell_type": "markdown",
   "metadata": {},
   "source": [
    "# Matrix Factorization"
   ]
  },
  {
   "cell_type": "markdown",
   "metadata": {},
   "source": [
    "## Import Package"
   ]
  },
  {
   "cell_type": "code",
   "execution_count": 1,
   "metadata": {},
   "outputs": [],
   "source": [
    "import matplotlib.pyplot as plt\n",
    "import pandas as pd\n",
    "import numpy as np"
   ]
  },
  {
   "cell_type": "markdown",
   "metadata": {},
   "source": [
    "## Model"
   ]
  },
  {
   "cell_type": "code",
   "execution_count": 2,
   "metadata": {},
   "outputs": [],
   "source": [
    "class Matrix_Factorization:\n",
    "    def __init__(self, alpha = 0.00001, iterations = 50, num_of_latent = 200, lam = 0.0005):\n",
    "        \"\"\"\n",
    "            Some initializations, if neccesary\n",
    "            \n",
    "            attributes: \n",
    "                        alpha: Learning Rate, default 0.01\n",
    "                        num_iter: Number of Iterations to update coefficient with training data\n",
    "                        num_of_latent: Number of latent factor.\n",
    "                        lam: Regularization constant\n",
    "                        \n",
    "            \n",
    "            TODO: 1. Initialize all variables needed.\n",
    "        \"\"\"\n",
    "        \n",
    "        self.alpha = alpha\n",
    "        self.iterations = iterations\n",
    "        self.num_of_latent = num_of_latent\n",
    "        self.lam = lam\n",
    "        \n",
    "    def fit(self, train, test):\n",
    "        \"\"\"\n",
    "            Train: list of tuples with (User, Movie, Rating)\n",
    "            num_user: Number of unique user.\n",
    "            num_movie: Number of unique movie\n",
    "            \n",
    "            TODO: 2. Initialize num_user and num_movie\n",
    "                  3. Save the training set.\n",
    "                  4. Initialize P and Q matrix, with normal distribution with mean = 0. \n",
    "                  Hint: Think about what P and Q represent, what they should do.Think about the shape too. \n",
    "            \n",
    "        \n",
    "        \"\"\"\n",
    "        num_user = max(map(lambda t:t[0], train)) + 1\n",
    "        num_movie =  max(map(lambda t:t[1], train)) + 1\n",
    "        \n",
    "        self.train = train\n",
    "        \n",
    "        self.P = np.random.normal(loc = 0, size=[num_user, self.num_of_latent])\n",
    "        self.Q = np.random.normal(loc = 0, size=[num_movie, self.num_of_latent])\n",
    "        \n",
    "        rmse_lst = []\n",
    "        score = []\n",
    "        \n",
    "        \"\"\"\n",
    "            TODO: 5: Calculate the error, using P and Q matrix. \n",
    "                  6: We need to check if the absolute value error is less than some constant. Store the previous Q and P for adaptive learning rate.\n",
    "                      If it is less than that constant then we update P and Q matrix. \n",
    "                      (When update, update the P and Q at the same time. Think about why it is important.)\n",
    "                      Otherwise use the error to update the Q and P matrix.\n",
    "                      \n",
    "                  7: For each entry update temp_mse, and append the Current iteration RMSE to rmse_lst.\n",
    "                  \n",
    "        \"\"\"\n",
    " \n",
    "        for f in range(self.iterations):\n",
    "            ### Random Shuffle. Why is this called?\n",
    "            np.random.shuffle(self.train)\n",
    "            \n",
    "            temp_mse = 0\n",
    "\n",
    "            previous_Q = self.Q.copy()\n",
    "            previous_P = self.P.copy()\n",
    "            \n",
    "            Count = 0\n",
    "   \n",
    "            for tup in self.train:\n",
    "                u,i,rating = tup\n",
    "                error = rating - self.Q[i].T @ self.P[u]\n",
    "                \n",
    "                if abs(error) > 20 :\n",
    "                    continue\n",
    "                Count += 1\n",
    "                temp_mse += error**2\n",
    "                \n",
    "                #### Don't Modify this code, helpful for converge.\n",
    "#                 if np.isinf(self.Q).any() or np.isinf(self.P).any() or np.isnan(self.Q).any() or np.isnan(self.P).any():\n",
    "#                     pass\n",
    "#                 else:\n",
    "                    #### NEED TO MODIFY #### Update P and Q.\n",
    "                p = self.P[u].copy()\n",
    "                self.P[u] += 2 * self.alpha * error * self.Q[i] - self.lam * self.P[u]\n",
    "                self.Q[i] += 2 * self.alpha * error * p - self.lam * self.Q[i]\n",
    "                \n",
    "            rmse_lst.append((temp_mse / Count)**0.5)\n",
    "            \n",
    "            \n",
    "            \"\"\"\n",
    "                TODO: 8: Implement the adaptive learning rate.\n",
    "                         If current rmse is less than previous iteration, let's increase by a factor range from 1 - 1.5\n",
    "                         Otherwise we decrease by a factor range from 0.5 - 1\n",
    "                      9: If the current rmse is greater than previous iteration.\n",
    "                         Check the relative error, (previous - current)/ previous.\n",
    "                         If it is greater than 0.1, we restore the previous Q and P. (Try without it. Think about why we need this.)\n",
    "            \"\"\"\n",
    "            if len(rmse_lst)==1 or rmse_lst[-1]<rmse_lst[-2]:\n",
    "                self.alpha = self.alpha*1.1\n",
    "            else:\n",
    "                self.alpha = self.alpha*0.75\n",
    "                if (rmse_lst[-1] - rmse_lst[-2])/rmse_lst[-2] > 0.1:\n",
    "                    self.Q = previous_Q\n",
    "                    self.P = previous_P\n",
    "                    \n",
    "            error = 0\n",
    "            pred = self.predict(map(lambda t: (t[0],t[1]),test))\n",
    "            for i in range(len(test)):\n",
    "                error += (test[i][2] - pred[i])**2\n",
    "            score += [(error/ len(test))** (0.5)]\n",
    "            \n",
    "        self.score = score\n",
    "        self.rmse = rmse_lst\n",
    "        \n",
    "    def ind_predict(self, tup):\n",
    "        \"\"\"\n",
    "            tup: One single entry, (user, movie)\n",
    "            \n",
    "            TODO: 10: Use P and Q to make prediction on single entry.\n",
    "            \n",
    "        \"\"\"\n",
    "        u,i = tup\n",
    "        \n",
    "        return self.Q[i].T @ self.P[u]\n",
    "    def predict(self, X):\n",
    "        \"\"\"\n",
    "            X: list of entries\n",
    "            \n",
    "            TODO: 11: Use ind_predict we create to make predicitons.\n",
    "        \"\"\"\n",
    "        res = []\n",
    "        for i in X:\n",
    "            res.append(self.ind_predict(i))\n",
    "        return res"
   ]
  },
  {
   "cell_type": "code",
   "execution_count": 3,
   "metadata": {},
   "outputs": [],
   "source": [
    "class Matrix_Factorization_with_bias:\n",
    "    def __init__(self, alpha = 0.00001, iterations = 50, num_of_latent = 200, lam = 0.01):\n",
    "        \n",
    "        \"\"\"\n",
    "            Some initializations, if neccesary\n",
    "            \n",
    "            attributes: \n",
    "                        alpha: Learning Rate, default 0.01\n",
    "                        num_iter: Number of Iterations to update coefficient with training data\n",
    "                        num_of_latent: Number of latent factor.\n",
    "                        lam: Regularization constant\n",
    " \n",
    "            \n",
    "            TODO: 1. Initialize all variables needed.\n",
    "        \"\"\"\n",
    "            \n",
    "        self.alpha = alpha\n",
    "        self.iterations = iterations\n",
    "        self.num_of_latent = num_of_latent\n",
    "        self.lam = lam\n",
    "\n",
    "\n",
    "        \n",
    "    def fit(self, train, test):\n",
    "        \"\"\"\n",
    "            Train: list of tuples with (User, Movie, Rating)\n",
    "            num_user: Number of unique user.\n",
    "            num_movie: Number of unique movie\n",
    "            \n",
    "            TODO: 2. Initialize num_user and num_movie.\n",
    "                  3. Save the training set.\n",
    "                  4. Initialize bu , bi and b. b is the global mean of the rating.\n",
    "                  5. Initialize P and Q matrix. \n",
    "                  Hint: Think about what P and Q represent, what they should do.Think about the shape too. \n",
    "                  \n",
    "            \n",
    "        \n",
    "        \"\"\"\n",
    "        num_user = max(map(lambda t:t[0], train)) + 1\n",
    "        num_movie =  max(map(lambda t:t[1], train)) + 1\n",
    "        \n",
    "        self.train = train\n",
    "        \n",
    "        self.P = np.random.normal(loc = 0, size=[num_user, self.num_of_latent])\n",
    "        self.Q = np.random.normal(loc = 0, size=[num_movie, self.num_of_latent])\n",
    "        \n",
    "        self.bu = np.random.uniform(size=num_user)\n",
    "        self.bi = np.random.uniform(size=num_movie)\n",
    "        self.b = np.mean(list(map(lambda t:t[2], train)))\n",
    "        \n",
    "        rmse_lst = []\n",
    "        self.score = []\n",
    "        \"\"\"\n",
    "            TODO: 5: Calculate the error, using P , Q , bu , bi and b. \n",
    "                  6: Update the P , Q , bu , bi and b with error you calculate. \n",
    "                    (Think about why we don't need to check the absolute of error)\n",
    "                  7: For each entry update temp_mse, and append the Current iteration RMSE to rmse_lst.\n",
    "                  \n",
    "        \"\"\"\n",
    "\n",
    "\n",
    "        for f in range(self.iterations):\n",
    "            \n",
    "            np.random.shuffle(self.train)\n",
    "            \n",
    "            temp_mse = 0\n",
    "            previous_Q = self.Q.copy()\n",
    "            previous_P = self.P.copy()\n",
    "            previous_bu = self.bu.copy()\n",
    "            previous_bi = self.bi.copy()\n",
    "            \n",
    "            Count = 0\n",
    "            for tup in self.train:\n",
    "                u,i,rating = tup\n",
    "                \n",
    "                error = rating - self.Q[i].T @ self.P[u] - self.bu[u] - self.bi[i] - self.b\n",
    "                \n",
    "                if abs(error) > 20:\n",
    "                    continue\n",
    "\n",
    "                Count += 1   \n",
    "                temp_mse += error ** 2\n",
    "                \n",
    "                # You might want to update column by column\n",
    "                p = self.P[u].copy()\n",
    "                self.P[u] += 2 * self.alpha * error * self.Q[i] - self.lam * self.P[u]\n",
    "                self.Q[i] += 2 * self.alpha * error * p - self.lam * self.Q[i]\n",
    "                \n",
    "                self.bu[u] += 2 * self.alpha * error - self.lam * self.bu[u]\n",
    "                self.bi[i] += 2 * self.alpha * error - self.lam * self.bi[i]\n",
    "            \n",
    "            rmse_lst.append((temp_mse / Count)**0.5)\n",
    "                \n",
    "            \n",
    "            \n",
    "            \"\"\"\n",
    "                TODO: 8: Implement the adaptive learning rate.\n",
    "                         If current rmse is less than previous iteration, let's increase by a factor range from 1 - 1.5\n",
    "                         Otherwise we decrease by a factor range from 0.5 - 1\n",
    "                      9: If the current rmse is greater than previous iteration.\n",
    "                         Check the relative error, (previous - current)/ previous.\n",
    "                         If it is greater than 0.1, we restore the previous Q and P. (Try without it. Think about why we need this.)\n",
    "            \"\"\"\n",
    "            \n",
    "            if len(rmse_lst)==1 or rmse_lst[-1]<rmse_lst[-2]:\n",
    "                self.alpha = self.alpha*1.1\n",
    "            else:\n",
    "                self.alpha = self.alpha*0.75\n",
    "                if (rmse_lst[-1] - rmse_lst[-2])/rmse_lst[-2] > 0.1:\n",
    "                    self.Q = previous_Q\n",
    "                    self.P = previous_P \n",
    "                    self.bu = previous_bu\n",
    "                    self.bi = previous_bi\n",
    "\n",
    "            error = 0\n",
    "            pred = self.predict(map(lambda t: (t[0],t[1]),test))\n",
    "            for i in range(len(test)):\n",
    "                error += (test[i][2] - pred[i])**2\n",
    "            self.score += [(error/ len(test))** (0.5)]\n",
    "            \n",
    "        self.rmse = rmse_lst\n",
    "            \n",
    "    def ind_predict(self, tup):\n",
    "        \"\"\"\n",
    "            tup: One single entry, (user, movie)\n",
    "            \n",
    "            TODO: 10: Use P and Q to make prediction on single entry.\n",
    "            \n",
    "        \"\"\"\n",
    "        u,i = tup\n",
    "        \n",
    "        return self.Q[i].T @ self.P[u] + self.bu[u] + self.bi[i] + self.b\n",
    "    def predict(self, X):\n",
    "        \"\"\"\n",
    "            X: list of entries\n",
    "            \n",
    "            TODO: 11: Use ind_predict we create to make predicitons.\n",
    "        \"\"\"\n",
    "        res = []\n",
    "        for i in X:\n",
    "            res.append(self.ind_predict(i))\n",
    "        return res\n",
    "        \n",
    "    "
   ]
  },
  {
   "cell_type": "markdown",
   "metadata": {},
   "source": [
    "## Preprocessing"
   ]
  },
  {
   "cell_type": "code",
   "execution_count": 4,
   "metadata": {},
   "outputs": [],
   "source": [
    "ratings = pd.read_csv('./ml-latest-small/ratings.csv')\n",
    "ratings = ratings.sort_values('timestamp').reset_index(drop = True).astype(int)\n",
    "a = np.sort(ratings.movieId.unique())\n",
    "index_dict = {}\n",
    "for i in range(len(a)):\n",
    "    index_dict[a[i]]  = i\n",
    "ratings.movieId = ratings.movieId.apply(lambda x: index_dict[x]) \n",
    "\n",
    "grouped_userId = list(ratings.groupby(['userId']).apply(lambda x: x[['movieId','rating']].values))\n",
    "grouped_movieId = list(ratings.groupby(['movieId']).apply(lambda x: x[['userId','rating']].values))"
   ]
  },
  {
   "cell_type": "code",
   "execution_count": 5,
   "metadata": {},
   "outputs": [],
   "source": [
    "np.random.seed(0)\n",
    "train = set()\n",
    "test = set()\n",
    "\n",
    "for i in range(len(grouped_movieId)):\n",
    "    temp_len = len(grouped_movieId[i])\n",
    "    for j in range(temp_len):\n",
    "        if j < temp_len * 0.8:\n",
    "            train.add((grouped_movieId[i][j][0]-1,i - 1, grouped_movieId[i][j][1]))\n",
    "        else:\n",
    "            test.add((grouped_movieId[i][j][0] -1, i - 1,grouped_movieId[i][j][1]))\n",
    "train = list(train)\n",
    "test = list(test)"
   ]
  },
  {
   "cell_type": "code",
   "execution_count": 6,
   "metadata": {},
   "outputs": [
    {
     "data": {
      "text/plain": [
       "(84071, 16765)"
      ]
     },
     "execution_count": 6,
     "metadata": {},
     "output_type": "execute_result"
    }
   ],
   "source": [
    "len(train), len(test)"
   ]
  },
  {
   "cell_type": "markdown",
   "metadata": {},
   "source": [
    "## Train and Test"
   ]
  },
  {
   "cell_type": "markdown",
   "metadata": {},
   "source": [
    "### Model without bias"
   ]
  },
  {
   "cell_type": "code",
   "execution_count": 7,
   "metadata": {},
   "outputs": [],
   "source": [
    "np.random.seed(0)\n",
    "clf = Matrix_Factorization(alpha = 5e-4, iterations = 50, num_of_latent = 5, lam = 6e-3)\n",
    "clf.fit(train,test)"
   ]
  },
  {
   "cell_type": "code",
   "execution_count": 8,
   "metadata": {},
   "outputs": [
    {
     "data": {
      "text/plain": [
       "Text(0, 0.5, 'RMSE')"
      ]
     },
     "execution_count": 8,
     "metadata": {},
     "output_type": "execute_result"
    },
    {
     "data": {
      "image/png": "[encoded data removed]",
      "text/plain": [
       "<Figure size 432x288 with 1 Axes>"
      ]
     },
     "metadata": {
      "needs_background": "light"
     },
     "output_type": "display_data"
    }
   ],
   "source": [
    "ax = plt.subplot()\n",
    "ax.plot(clf.rmse)\n",
    "ax.plot(clf.score)\n",
    "ax.set_xlabel(\"Iteration\")\n",
    "ax.set_ylabel(\"RMSE\")"
   ]
  },
  {
   "cell_type": "code",
   "execution_count": 9,
   "metadata": {
    "scrolled": true
   },
   "outputs": [
    {
     "data": {
      "text/plain": [
       "1.080243294625906"
      ]
     },
     "execution_count": 9,
     "metadata": {},
     "output_type": "execute_result"
    }
   ],
   "source": [
    "min(clf.score)"
   ]
  },
  {
   "cell_type": "markdown",
   "metadata": {},
   "source": [
    "### Model with bias"
   ]
  },
  {
   "cell_type": "code",
   "execution_count": 10,
   "metadata": {},
   "outputs": [],
   "source": [
    "np.random.seed(0)\n",
    "clf = Matrix_Factorization_with_bias(alpha = 5e-4, iterations = 50, num_of_latent = 5, lam = 6e-3)\n",
    "\n",
    "clf.fit(train,test)"
   ]
  },
  {
   "cell_type": "code",
   "execution_count": 11,
   "metadata": {},
   "outputs": [
    {
     "data": {
      "text/plain": [
       "Text(0, 0.5, 'RMSE')"
      ]
     },
     "execution_count": 11,
     "metadata": {},
     "output_type": "execute_result"
    },
    {
     "data": {
      "image/png": "[encoded data removed]",
      "text/plain": [
       "<Figure size 432x288 with 1 Axes>"
      ]
     },
     "metadata": {
      "needs_background": "light"
     },
     "output_type": "display_data"
    }
   ],
   "source": [
    "ax = plt.subplot()\n",
    "ax.plot(clf.rmse)\n",
    "ax.plot(clf.score)\n",
    "ax.set_xlabel(\"Iteration\")\n",
    "ax.set_ylabel(\"RMSE\")"
   ]
  },
  {
   "cell_type": "code",
   "execution_count": 12,
   "metadata": {},
   "outputs": [
    {
     "data": {
      "text/plain": [
       "0.9378044950925724"
      ]
     },
     "execution_count": 12,
     "metadata": {},
     "output_type": "execute_result"
    }
   ],
   "source": [
    "min(clf.score)"
   ]
  },
  {
   "cell_type": "code",
   "execution_count": 13,
   "metadata": {},
   "outputs": [
    {
     "data": {
      "text/plain": [
       "0.780171344848244"
      ]
     },
     "execution_count": 13,
     "metadata": {},
     "output_type": "execute_result"
    }
   ],
   "source": [
    "min(clf.rmse)"
   ]
  }
 ],
 "metadata": {
  "kernelspec": {
   "display_name": "Python 3",
   "language": "python",
   "name": "python3"
  },
  "language_info": {
   "codemirror_mode": {
    "name": "ipython",
    "version": 3
   },
   "file_extension": ".py",
   "mimetype": "text/x-python",
   "name": "python",
   "nbconvert_exporter": "python",
   "pygments_lexer": "ipython3",
   "version": "3.7.6"
  }
 },
 "nbformat": 4,
 "nbformat_minor": 4
}
